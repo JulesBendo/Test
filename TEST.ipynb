{
  "cells": [
    {
      "cell_type": "markdown",
      "metadata": {
        "id": "view-in-github",
        "colab_type": "text"
      },
      "source": [
        "<a href=\"https://colab.research.google.com/github/JulesBendo/Test/blob/main/TEST.ipynb\" target=\"_parent\"><img src=\"https://colab.research.google.com/assets/colab-badge.svg\" alt=\"Open In Colab\"/></a>"
      ]
    },
    {
      "cell_type": "code",
      "execution_count": 23,
      "metadata": {
        "id": "xQStFHgg26mE"
      },
      "outputs": [],
      "source": [
        "import dask.dataframe as dk\n",
        "import requests\n",
        "import zipfile\n",
        "import os"
      ]
    },
    {
      "cell_type": "code",
      "execution_count": 24,
      "metadata": {
        "id": "Q27F8SF14xFf"
      },
      "outputs": [],
      "source": [
        "# URL du fichier zip\n",
        "zip_url = 'http://rhobs-public.s3-website.eu-west-3.amazonaws.com/data.zip'"
      ]
    },
    {
      "cell_type": "code",
      "execution_count": null,
      "metadata": {
        "colab": {
          "background_save": true
        },
        "id": "dEODWTKZ4y76"
      },
      "outputs": [],
      "source": [
        "# Téléchargement du fichier zip\n",
        "response = requests.get(zip_url)\n",
        "zip_file = 'data.zip'"
      ]
    },
    {
      "cell_type": "code",
      "execution_count": null,
      "metadata": {
        "colab": {
          "background_save": true
        },
        "id": "_VeZdUW14eRt"
      },
      "outputs": [],
      "source": [
        "# Ouvrir un fichier et écrire le contenu téléchargé dans ce fichier\n",
        "with open(zip_file, 'wb') as f:\n",
        "    f.write(response.content)"
      ]
    },
    {
      "cell_type": "code",
      "execution_count": null,
      "metadata": {
        "colab": {
          "background_save": true
        },
        "id": "huQzzUct9eai"
      },
      "outputs": [],
      "source": [
        "# Extraire le contenu du fichier zip dans le répertoire\n",
        "with zipfile.ZipFile(zip_file, 'r') as zip_ref:\n",
        "    zip_ref.extractall()"
      ]
    },
    {
      "cell_type": "code",
      "execution_count": null,
      "metadata": {
        "colab": {
          "background_save": true
        },
        "id": "pzV_bKoP-yq5"
      },
      "outputs": [],
      "source": [
        "#Etant donné que le fichier se nomme \"-\" on le renomme en \"data.csv\"\n",
        "os.rename('-', 'data.csv')"
      ]
    },
    {
      "cell_type": "code",
      "execution_count": null,
      "metadata": {
        "colab": {
          "background_save": true
        },
        "id": "ZaZ2VenU9r9H"
      },
      "outputs": [],
      "source": [
        "#on supprime ce zip à présent\n",
        "os.remove(zip_file)"
      ]
    },
    {
      "cell_type": "code",
      "execution_count": null,
      "metadata": {
        "colab": {
          "background_save": true
        },
        "id": "90o8vl4DFm-O"
      },
      "outputs": [],
      "source": [
        "!head data.csv\n",
        "#Parfait, à présent prenons connaissance des objectifs du test."
      ]
    },
    {
      "cell_type": "code",
      "execution_count": null,
      "metadata": {
        "colab": {
          "background_save": true
        },
        "id": "ie5SiZoi9xSS"
      },
      "outputs": [],
      "source": [
        "#Créons notre DataFrame en sélectionnant les lignes contenants les données.\n",
        "df = dk.read_csv('data.csv', delimiter=',', header=None, skiprows=9,\n",
        "                 names=['a', 'b', 'c', 'd', 'e', 'f', 'g'])"
      ]
    },
    {
      "cell_type": "code",
      "execution_count": null,
      "metadata": {
        "colab": {
          "background_save": true
        },
        "id": "EgkA6vVyDkA0"
      },
      "outputs": [],
      "source": [
        "df.head(5)"
      ]
    },
    {
      "cell_type": "code",
      "execution_count": null,
      "metadata": {
        "colab": {
          "background_save": true
        },
        "id": "QGGPQdl8vlBO"
      },
      "outputs": [],
      "source": [
        "df.info()"
      ]
    },
    {
      "cell_type": "code",
      "execution_count": null,
      "metadata": {
        "colab": {
          "background_save": true
        },
        "id": "x05kYiEa3TCD"
      },
      "outputs": [],
      "source": [
        "nb_lignes = len(df)\n",
        "print(\"Le DataFrame contient {} lignes.\".format(nb_lignes))"
      ]
    },
    {
      "cell_type": "code",
      "execution_count": null,
      "metadata": {
        "colab": {
          "background_save": true
        },
        "id": "Y2-F1KhzGJgd"
      },
      "outputs": [],
      "source": [
        "#Renomons les colonnes évidentes pour une meilleure visibilité.\n",
        "df = df.rename(columns={'a': 'id', 'b': 'description', 'c': 'first_name', 'd': 'last_name', 'e': 'column1', 'f': 'column2', 'g': 'column3'})"
      ]
    },
    {
      "cell_type": "code",
      "execution_count": null,
      "metadata": {
        "colab": {
          "background_save": true
        },
        "id": "BDiqutdXJEDS"
      },
      "outputs": [],
      "source": [
        "df.head(100)"
      ]
    },
    {
      "cell_type": "code",
      "execution_count": null,
      "metadata": {
        "colab": {
          "background_save": true
        },
        "id": "WWye_OKeLEf1"
      },
      "outputs": [],
      "source": [
        "df.tail(100)"
      ]
    },
    {
      "cell_type": "code",
      "execution_count": null,
      "metadata": {
        "colab": {
          "background_save": true
        },
        "id": "3hYfv3wqJGph"
      },
      "outputs": [],
      "source": [
        "description = df.describe().compute()\n",
        "print(description)"
      ]
    },
    {
      "cell_type": "code",
      "execution_count": null,
      "metadata": {
        "colab": {
          "background_save": true
        },
        "id": "NNoLue--MQqG"
      },
      "outputs": [],
      "source": [
        "def top_3(df):\n",
        "    numeric_cols = [col for col in df.columns if df[col].dtype in ['int64', 'float64'] and col != 'id']\n",
        "    for col in numeric_cols:\n",
        "      Trois_max, Trois_min = df[col].nlargest(3), df[col].nsmallest(3)\n",
        "      print(f\"Trois plus petites valeurs de la colonne {col} :\")\n",
        "      print(Trois_min.compute())\n",
        "      print(f\"\\nTrois plus grandes valeurs de la colonne {col} :\")\n",
        "      print(Trois_max.compute())\n"
      ]
    },
    {
      "cell_type": "code",
      "execution_count": 19,
      "metadata": {
        "id": "0KhMqhLPOwGu",
        "colab": {
          "base_uri": "https://localhost:8080/"
        },
        "outputId": "4e6d2aad-460b-4394-a89a-26c0d86b160f"
      },
      "outputs": [
        {
          "output_type": "stream",
          "name": "stdout",
          "text": [
            "Trois plus petites valeurs de la colonne column1 :\n",
            "6     0\n",
            "12    0\n",
            "17    0\n",
            "Name: column1, dtype: int64\n",
            "\n",
            "Trois plus grandes valeurs de la colonne column1 :\n",
            "1979    5000\n",
            "2910    5000\n",
            "8284    5000\n",
            "Name: column1, dtype: int64\n",
            "Trois plus petites valeurs de la colonne column2 :\n",
            "3401    -1000\n",
            "12145   -1000\n",
            "12503   -1000\n",
            "Name: column2, dtype: int64\n",
            "\n",
            "Trois plus grandes valeurs de la colonne column2 :\n",
            "0    0\n",
            "1    0\n",
            "2    0\n",
            "Name: column2, dtype: int64\n",
            "Trois plus petites valeurs de la colonne column3 :\n",
            "2552   -2470\n",
            "4573   -2126\n",
            "2979   -1880\n",
            "Name: column3, dtype: int64\n",
            "\n",
            "Trois plus grandes valeurs de la colonne column3 :\n",
            "1017731    893775958\n",
            "1018905    893775893\n",
            "1017069    893775523\n",
            "Name: column3, dtype: int64\n"
          ]
        }
      ],
      "source": [
        "top_3(df)"
      ]
    },
    {
      "cell_type": "code",
      "execution_count": 20,
      "metadata": {
        "id": "83tcQLRGQGoe"
      },
      "outputs": [],
      "source": [
        "#Maintenant que les données sont plus claires renomons les autres colonnes.\n",
        "df = df.rename(columns={'e': 'deposit', 'f': 'withdrawal', 'g': 'balance'})"
      ]
    },
    {
      "cell_type": "code",
      "execution_count": 21,
      "metadata": {
        "id": "8dB7lAUEK3Hs",
        "colab": {
          "base_uri": "https://localhost:8080/",
          "height": 273
        },
        "outputId": "7c60bd55-ad21-47ec-8d2f-942510dbe6f1"
      },
      "outputs": [
        {
          "data": {
            "text/html": [
              "<div><strong>Dask DataFrame Structure:</strong></div>\n",
              "<div>\n",
              "<style scoped>\n",
              "    .dataframe tbody tr th:only-of-type {\n",
              "        vertical-align: middle;\n",
              "    }\n",
              "\n",
              "    .dataframe tbody tr th {\n",
              "        vertical-align: top;\n",
              "    }\n",
              "\n",
              "    .dataframe thead th {\n",
              "        text-align: right;\n",
              "    }\n",
              "</style>\n",
              "<table border=\"1\" class=\"dataframe\">\n",
              "  <thead>\n",
              "    <tr style=\"text-align: right;\">\n",
              "      <th></th>\n",
              "      <th>id</th>\n",
              "      <th>description</th>\n",
              "      <th>first_name</th>\n",
              "      <th>last_name</th>\n",
              "      <th>column1</th>\n",
              "      <th>column2</th>\n",
              "      <th>column3</th>\n",
              "    </tr>\n",
              "    <tr>\n",
              "      <th>npartitions=292</th>\n",
              "      <th></th>\n",
              "      <th></th>\n",
              "      <th></th>\n",
              "      <th></th>\n",
              "      <th></th>\n",
              "      <th></th>\n",
              "      <th></th>\n",
              "    </tr>\n",
              "  </thead>\n",
              "  <tbody>\n",
              "    <tr>\n",
              "      <th></th>\n",
              "      <td>int64</td>\n",
              "      <td>object</td>\n",
              "      <td>object</td>\n",
              "      <td>object</td>\n",
              "      <td>int64</td>\n",
              "      <td>int64</td>\n",
              "      <td>int64</td>\n",
              "    </tr>\n",
              "    <tr>\n",
              "      <th></th>\n",
              "      <td>...</td>\n",
              "      <td>...</td>\n",
              "      <td>...</td>\n",
              "      <td>...</td>\n",
              "      <td>...</td>\n",
              "      <td>...</td>\n",
              "      <td>...</td>\n",
              "    </tr>\n",
              "    <tr>\n",
              "      <th>...</th>\n",
              "      <td>...</td>\n",
              "      <td>...</td>\n",
              "      <td>...</td>\n",
              "      <td>...</td>\n",
              "      <td>...</td>\n",
              "      <td>...</td>\n",
              "      <td>...</td>\n",
              "    </tr>\n",
              "    <tr>\n",
              "      <th></th>\n",
              "      <td>...</td>\n",
              "      <td>...</td>\n",
              "      <td>...</td>\n",
              "      <td>...</td>\n",
              "      <td>...</td>\n",
              "      <td>...</td>\n",
              "      <td>...</td>\n",
              "    </tr>\n",
              "    <tr>\n",
              "      <th></th>\n",
              "      <td>...</td>\n",
              "      <td>...</td>\n",
              "      <td>...</td>\n",
              "      <td>...</td>\n",
              "      <td>...</td>\n",
              "      <td>...</td>\n",
              "      <td>...</td>\n",
              "    </tr>\n",
              "  </tbody>\n",
              "</table>\n",
              "</div>\n",
              "<div>Dask Name: rename, 3 graph layers</div>"
            ],
            "text/plain": [
              "Dask DataFrame Structure:\n",
              "                    id description first_name last_name column1 column2 column3\n",
              "npartitions=292                                                                \n",
              "                 int64      object     object    object   int64   int64   int64\n",
              "                   ...         ...        ...       ...     ...     ...     ...\n",
              "...                ...         ...        ...       ...     ...     ...     ...\n",
              "                   ...         ...        ...       ...     ...     ...     ...\n",
              "                   ...         ...        ...       ...     ...     ...     ...\n",
              "Dask Name: rename, 3 graph layers"
            ]
          },
          "execution_count": 21,
          "metadata": {},
          "output_type": "execute_result"
        }
      ],
      "source": [
        "df"
      ]
    },
    {
      "cell_type": "markdown",
      "metadata": {
        "id": "ak5ilXIeIOi2"
      },
      "source": [
        "**MISSION 1**:\n",
        "\n",
        "*   id(a)\n",
        "\n",
        "    Cette colonne semble contenir des identifiants uniques pour chaque entrée dans nos données.\n",
        "\n",
        "*   description(b)\n",
        "\n",
        "    Cette colonne pourrait contenir des descriptions ou des informations textuelles décrivant chaque entrée dans vos données. On remarque qu'elles sont simplement notées \"longue description 0-7\".\n",
        "\n",
        "\n",
        "*   first_name(c)\n",
        "\n",
        "    Cette colonne semble contenir les prénoms des personnes associées à chaque entrée dans les données.\n",
        "\n",
        "*   last_name(d)\n",
        "\n",
        "    Cette colonne semble contenir les noms de famille des personnes  associées à chaque entrée dans les données.\n",
        "\n",
        "*   deposit(e)\n",
        "\n",
        "    Cette colonne présente des valeurs maximales de 5000 et des valeurs minimales de 0.\n",
        "    Ceci pourrait laisser penser aux dépôts (les dépôts étant en général des ajouts de fonds) avec 5000 comme plafond et 0 comme la valeur théorique minimale du dépôt (dans le cas d'un client n'effectuant aucun dépôt).\n",
        "\n",
        "*   withdrawal(f)\n",
        "\n",
        "    Cette colonne présente des valeurs maximales de 0 et des valeurs minimales de -1000.\n",
        "    Ceci pourrait laisser penser aux retraits(les retraits étant généralement des déductions de fonds) avec 1000 comme plafond et 0 comme la valeur théorique minimale du retrait (dans le cas d'un client n'effectuant aucun retrait).\n",
        "\n",
        "*   balance(g)\n",
        "\n",
        "    Cette colonne présente une valeur maximale de 893775958 et une valeur minimale de -2470.\n",
        "    En analogie avec ce qui précède, ceci semble être le solde courant du compte, positif lorsque le client est en règle et négatif lorsqu'il est endetté."
      ]
    },
    {
      "cell_type": "code",
      "execution_count": 22,
      "metadata": {
        "id": "UzcZTMFETf0a",
        "colab": {
          "base_uri": "https://localhost:8080/"
        },
        "outputId": "2b627e4f-5504-44ce-9b08-c41ca0735b21"
      },
      "outputs": [
        {
          "output_type": "stream",
          "name": "stdout",
          "text": [
            "        first_name last_name\n",
            "1017069    William     Ferry\n",
            "1017731   Amandine     Ferry\n",
            "1018905     Céline    Ivanov\n"
          ]
        },
        {
          "output_type": "stream",
          "name": "stderr",
          "text": [
            "/usr/local/lib/python3.10/dist-packages/dask/dataframe/core.py:8110: UserWarning: Insufficient elements for `head`. 5 elements requested, only 3 elements available. Try passing larger `npartitions` to `head`.\n",
            "  warnings.warn(\n"
          ]
        }
      ],
      "source": [
        "id = [1017731, 1018905, 1017069]\n",
        "\n",
        "# Sélectionnons les lignes correspondant aux id\n",
        "selection = df[df['id'].isin(id)]\n",
        "\n",
        "Personne = selection[['first_name', 'last_name']]\n",
        "\n",
        "print(Personne.head())"
      ]
    },
    {
      "cell_type": "markdown",
      "metadata": {
        "id": "Rt98fqqvR9XE"
      },
      "source": [
        "**MISSION 2**\n",
        " Les trois personnes les plus riches sont respectivement :\n",
        "\n",
        "\n",
        "1.    William Ferry\n",
        "\n",
        "     893775958\n",
        "\n",
        "2.   Amandine Ferry\n",
        "\n",
        "     893775893\n",
        "\n",
        "1.   Céline Ivanov\n",
        "   \n",
        "     893775523\n",
        "\n",
        "\n",
        "\n"
      ]
    }
  ],
  "metadata": {
    "colab": {
      "provenance": [],
      "toc_visible": true,
      "authorship_tag": "ABX9TyMZMXFDbSBQEWdDdwE4y1/G",
      "include_colab_link": true
    },
    "kernelspec": {
      "display_name": "Python 3",
      "name": "python3"
    },
    "language_info": {
      "name": "python"
    }
  },
  "nbformat": 4,
  "nbformat_minor": 0
}